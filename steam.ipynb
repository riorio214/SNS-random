{
  "nbformat": 4,
  "nbformat_minor": 0,
  "metadata": {
    "colab": {
      "provenance": [],
      "authorship_tag": "ABX9TyM2kliZgIsb66uW8RmmQPcG",
      "include_colab_link": true
    },
    "kernelspec": {
      "name": "python3",
      "display_name": "Python 3"
    },
    "language_info": {
      "name": "python"
    }
  },
  "cells": [
    {
      "cell_type": "markdown",
      "metadata": {
        "id": "view-in-github",
        "colab_type": "text"
      },
      "source": [
        "<a href=\"https://colab.research.google.com/github/riorio214/SNS-random/blob/main/steam.ipynb\" target=\"_parent\"><img src=\"https://colab.research.google.com/assets/colab-badge.svg\" alt=\"Open In Colab\"/></a>"
      ]
    },
    {
      "cell_type": "code",
      "source": [
        "import kagglehub\n",
        "\n",
        "# Download latest version\n",
        "path = kagglehub.dataset_download(\"trolukovich/steam-games-complete-dataset\")\n",
        "\n",
        "print(\"Path to dataset files:\", path)"
      ],
      "metadata": {
        "colab": {
          "base_uri": "https://localhost:8080/"
        },
        "id": "QDSiievYlCW1",
        "outputId": "2258e88c-d327-4de3-fd5b-564f4987da68"
      },
      "execution_count": 1,
      "outputs": [
        {
          "output_type": "stream",
          "name": "stdout",
          "text": [
            "Downloading from https://www.kaggle.com/api/v1/datasets/download/trolukovich/steam-games-complete-dataset?dataset_version_number=1...\n"
          ]
        },
        {
          "output_type": "stream",
          "name": "stderr",
          "text": [
            "100%|██████████| 24.6M/24.6M [00:02<00:00, 11.9MB/s]"
          ]
        },
        {
          "output_type": "stream",
          "name": "stdout",
          "text": [
            "Extracting files...\n"
          ]
        },
        {
          "output_type": "stream",
          "name": "stderr",
          "text": [
            "\n"
          ]
        },
        {
          "output_type": "stream",
          "name": "stdout",
          "text": [
            "Path to dataset files: /root/.cache/kagglehub/datasets/trolukovich/steam-games-complete-dataset/versions/1\n"
          ]
        }
      ]
    },
    {
      "cell_type": "code",
      "source": [
        "import os\n",
        "\n",
        "# 다운로드한 경로의 파일 목록 확인\n",
        "downloaded_files = os.listdir('/root/.cache/kagglehub/datasets/trolukovich/steam-games-complete-dataset/versions/1')\n",
        "print(downloaded_files)"
      ],
      "metadata": {
        "colab": {
          "base_uri": "https://localhost:8080/"
        },
        "id": "NBImU-nzmrCM",
        "outputId": "c3b7d189-9571-430f-d850-38f668b5942a"
      },
      "execution_count": 3,
      "outputs": [
        {
          "output_type": "stream",
          "name": "stdout",
          "text": [
            "['steam_games.csv']\n"
          ]
        }
      ]
    },
    {
      "cell_type": "code",
      "source": [
        "import kagglehub\n",
        "import os\n",
        "import pandas as pd\n",
        "\n",
        "# CSV 파일 경로 설정\n",
        "csv_file_path = '/root/.cache/kagglehub/datasets/trolukovich/steam-games-complete-dataset/versions/1/steam_games.csv'\n",
        "\n",
        "# CSV 파일 읽기\n",
        "df = pd.read_csv(csv_file_path)\n",
        "\n",
        "# 1. 'types' 열에서 'bundle' 값이 있는 행 삭제\n",
        "df = df[df['types'] != 'bundle']\n",
        "\n",
        "# 2. 'languages' 열에서 'Korean'이 포함되지 않은 행 삭제\n",
        "df = df[df['languages'].str.contains('Korean', na=False)]\n",
        "\n",
        "# 3. 'popular_tags' 열에서 'Multiplayer'가 포함되지 않은 행 삭제\n",
        "df = df[df['popular_tags'].str.contains('Multiplayer', na=False)]\n",
        "\n",
        "# /content 경로에 정제된 데이터 저장, UTF-8 인코딩\n",
        "cleaned_file_path = '/content/steam_games_cleaned.csv'\n",
        "df.to_csv(cleaned_file_path, index=False, encoding='utf-8')\n",
        "\n",
        "print(\"전처리 완료:\", cleaned_file_path)\n"
      ],
      "metadata": {
        "colab": {
          "base_uri": "https://localhost:8080/"
        },
        "id": "lxP-Soqum7eB",
        "outputId": "67f5b9b7-ffa5-419d-bae1-1d6754df54f1"
      },
      "execution_count": 12,
      "outputs": [
        {
          "output_type": "stream",
          "name": "stdout",
          "text": [
            "전처리 완료: /content/steam_games_cleaned.csv\n"
          ]
        }
      ]
    },
    {
      "cell_type": "code",
      "source": [
        "import kagglehub\n",
        "import os\n",
        "import pandas as pd\n",
        "\n",
        "# CSV 파일 경로 설정\n",
        "csv_file_path = '/content/steam_games_cleaned.csv'\n",
        "\n",
        "# CSV 파일 UTF-8 인코딩으로 읽기\n",
        "df = pd.read_csv(csv_file_path, encoding='utf-8')\n",
        "\n",
        "print(df.head(5))\n"
      ],
      "metadata": {
        "colab": {
          "base_uri": "https://localhost:8080/"
        },
        "id": "47AAvoDRvECJ",
        "outputId": "5553ae71-87d8-493e-fc08-c29546b46ca9"
      },
      "execution_count": 13,
      "outputs": [
        {
          "output_type": "stream",
          "name": "stdout",
          "text": [
            "                                                 url types  \\\n",
            "0  https://store.steampowered.com/app/578080/PLAY...   app   \n",
            "1  https://store.steampowered.com/app/601150/Devi...   app   \n",
            "2  https://store.steampowered.com/app/477160/Huma...   app   \n",
            "3  https://store.steampowered.com/app/527230/For_...   app   \n",
            "4  https://store.steampowered.com/app/393080/Call...   app   \n",
            "\n",
            "                                        name  \\\n",
            "0              PLAYERUNKNOWN'S BATTLEGROUNDS   \n",
            "1                            Devil May Cry 5   \n",
            "2                           Human: Fall Flat   \n",
            "3                               For The King   \n",
            "4  Call of Duty®: Modern Warfare® Remastered   \n",
            "\n",
            "                                        desc_snippet  \\\n",
            "0  PLAYERUNKNOWN'S BATTLEGROUNDS is a battle roya...   \n",
            "1  The ultimate Devil Hunter is back in style, in...   \n",
            "2  Human: Fall Flat is a quirky open-ended physic...   \n",
            "3  For The King is a strategic RPG that blends ta...   \n",
            "4  One of the most critically-acclaimed games in ...   \n",
            "\n",
            "                                      recent_reviews  \\\n",
            "0  Mixed,(6,214),- 49% of the 6,214 user reviews ...   \n",
            "1  Very Positive,(408),- 87% of the 408 user revi...   \n",
            "2  Very Positive,(629),- 91% of the 629 user revi...   \n",
            "3  Very Positive,(67),- 80% of the 67 user review...   \n",
            "4  Mixed,(33),- 51% of the 33 user reviews in the...   \n",
            "\n",
            "                                         all_reviews  release_date  \\\n",
            "0  Mixed,(836,608),- 49% of the 836,608 user revi...  Dec 21, 2017   \n",
            "1  Very Positive,(9,645),- 92% of the 9,645 user ...   Mar 7, 2019   \n",
            "2  Very Positive,(23,763),- 91% of the 23,763 use...  Jul 22, 2016   \n",
            "3  Very Positive,(4,600),- 83% of the 4,600 user ...  Apr 19, 2018   \n",
            "4  Mixed,(1,118),- 51% of the 1,118 user reviews ...  Jul 27, 2017   \n",
            "\n",
            "               developer                          publisher  \\\n",
            "0       PUBG Corporation  PUBG Corporation,PUBG Corporation   \n",
            "1       CAPCOM Co., Ltd.  CAPCOM Co., Ltd.,CAPCOM Co., Ltd.   \n",
            "2        No Brakes Games        Curve Digital,Curve Digital   \n",
            "3          IronOak Games        Curve Digital,Curve Digital   \n",
            "4  Raven Software,Beenox              Activision,Activision   \n",
            "\n",
            "                                        popular_tags  \\\n",
            "0  Survival,Shooter,Multiplayer,Battle Royale,PvP...   \n",
            "1  Action,Hack and Slash,Great Soundtrack,Demons,...   \n",
            "2  Funny,Multiplayer,Co-op,Puzzle,Physics,Local C...   \n",
            "3  RPG,Turn-Based Combat,Adventure,Online Co-Op,C...   \n",
            "4  FPS,Action,Shooter,Multiplayer,Violent,War,Sin...   \n",
            "\n",
            "                                        game_details  \\\n",
            "0             Multi-player,Online Multi-Player,Stats   \n",
            "1  Single-player,Online Multi-Player,Online Co-op...   \n",
            "2  Single-player,Online Multi-Player,Local Co-op,...   \n",
            "3  Single-player,Multi-player,Online Multi-Player...   \n",
            "4  Single-player,Online Multi-Player,Online Co-op...   \n",
            "\n",
            "                                           languages  achievements  \\\n",
            "0  English,Korean,Simplified Chinese,French,Germa...          37.0   \n",
            "1  English,French,Italian,German,Spanish - Spain,...          51.0   \n",
            "2  English,French,German,Spanish - Spain,Russian,...          55.0   \n",
            "3  English,French,Italian,German,Spanish - Spain,...          72.0   \n",
            "4  English,French,Italian,German,Spanish - Spain,...          50.0   \n",
            "\n",
            "                                    genre  \\\n",
            "0  Action,Adventure,Massively Multiplayer   \n",
            "1                                  Action   \n",
            "2                         Adventure,Indie   \n",
            "3            Adventure,Indie,RPG,Strategy   \n",
            "4                                  Action   \n",
            "\n",
            "                                    game_description  \\\n",
            "0   About This Game  PLAYERUNKNOWN'S BATTLEGROUND...   \n",
            "1   About This Game The Devil you know returns in...   \n",
            "2   About This Game  ***NEW \"DARK\" LEVEL AVAILABL...   \n",
            "3   About This Game  Into The Deep, a brand new a...   \n",
            "4   About This Game One of the most critically-ac...   \n",
            "\n",
            "                                      mature_content  \\\n",
            "0   Mature Content Description  The developers de...   \n",
            "1   Mature Content Description  The developers de...   \n",
            "2                                                NaN   \n",
            "3                                                NaN   \n",
            "4                                                NaN   \n",
            "\n",
            "                                minimum_requirements  \\\n",
            "0  Minimum:,Requires a 64-bit processor and opera...   \n",
            "1  Minimum:,OS:,WINDOWS® 7, 8.1, 10 (64-BIT Requi...   \n",
            "2  Minimum:,OS:,Windows XP/Vista/7/8/8.1/10 x86 a...   \n",
            "3  Minimum:,Requires a 64-bit processor and opera...   \n",
            "4  Minimum:,Requires a 64-bit processor and opera...   \n",
            "\n",
            "                            recommended_requirements original_price  \\\n",
            "0  Recommended:,Requires a 64-bit processor and o...         $29.99   \n",
            "1  Recommended:,OS:,WINDOWS® 7, 8.1, 10 (64-BIT R...         $59.99   \n",
            "2  Recommended:,OS:,Windows XP/Vista/7/8/8.1/10 x...         $14.99   \n",
            "3  Recommended:,Requires a 64-bit processor and o...         $19.99   \n",
            "4  Recommended:,Requires a 64-bit processor and o...          1.020   \n",
            "\n",
            "  discount_price  \n",
            "0            NaN  \n",
            "1         $70.42  \n",
            "2         $17.58  \n",
            "3            NaN  \n",
            "4        $906.48  \n"
          ]
        }
      ]
    },
    {
      "cell_type": "code",
      "source": [
        "import pandas as pd\n",
        "from sklearn.model_selection import train_test_split\n",
        "from sklearn.svm import SVC\n",
        "from sklearn.metrics import accuracy_score\n",
        "\n",
        "# 데이터 불러오기\n",
        "df = pd.read_csv('/content/steam_games_cleaned.csv', encoding='utf-8')\n",
        "\n",
        "# 숫자형 컬럼만 선택하여 NaN 값을 평균으로 대체\n",
        "numeric_cols = df.select_dtypes(include=['float64', 'int64']).columns\n",
        "df[numeric_cols] = df[numeric_cols].fillna(df[numeric_cols].mean())\n",
        "\n",
        "# 특성과 레이블 설정\n",
        "X = df.drop(columns=['genre', 'url'])  # 특성: 장르를 제외한 나머지 컬럼\n",
        "y = df['genre']  # 레이블: 'genre' (장르)\n",
        "\n",
        "# 범주형 변수를 더미 변수로 변환\n",
        "X = pd.get_dummies(X)\n",
        "\n",
        "# 학습용, 테스트용 데이터셋 분리\n",
        "X_train, X_test, y_train, y_test = train_test_split(X, y, test_size=0.3, random_state=42)\n",
        "\n",
        "# SVM 모델 학습\n",
        "svm_model = SVC(kernel='linear')  # 선형 커널을 사용하는 SVM\n",
        "svm_model.fit(X_train, y_train)\n",
        "\n",
        "# 예측\n",
        "y_pred = svm_model.predict(X_test)\n",
        "\n",
        "# 정확도 평가\n",
        "accuracy = accuracy_score(y_test, y_pred)\n",
        "print(f\"SVM Accuracy: {accuracy * 100:.2f}%\")\n"
      ],
      "metadata": {
        "colab": {
          "base_uri": "https://localhost:8080/"
        },
        "id": "brSz6tqUyFUI",
        "outputId": "777bc768-5693-4357-99ec-85b11a37ff8e"
      },
      "execution_count": 16,
      "outputs": [
        {
          "output_type": "stream",
          "name": "stdout",
          "text": [
            "SVM Accuracy: 31.56%\n"
          ]
        }
      ]
    },
    {
      "cell_type": "code",
      "source": [
        "import pandas as pd\n",
        "from sklearn.model_selection import train_test_split\n",
        "from sklearn.linear_model import LogisticRegression\n",
        "from sklearn.metrics import accuracy_score\n",
        "\n",
        "# 데이터 불러오기\n",
        "df = pd.read_csv('/content/steam_games_cleaned.csv', encoding='utf-8')\n",
        "\n",
        "# 특성과 레이블 설정\n",
        "X = df.drop(columns=['genre', 'url'])\n",
        "y = df['genre']\n",
        "\n",
        "# 텍스트 컬럼이 있다면 이를 숫자형으로 변환\n",
        "X = pd.get_dummies(X)  # 범주형 변수를 더미 변수로 변환\n",
        "\n",
        "# 학습용, 테스트용 데이터셋 분리\n",
        "X_train, X_test, y_train, y_test = train_test_split(X, y, test_size=0.3, random_state=42)\n",
        "\n",
        "# 로지스틱 회귀 모델 학습\n",
        "logreg_model = LogisticRegression(max_iter=1000)  # 반복 횟수 늘려주기\n",
        "logreg_model.fit(X_train, y_train)\n",
        "\n",
        "# 예측\n",
        "y_pred = logreg_model.predict(X_test)\n",
        "\n",
        "# 정확도 평가\n",
        "accuracy = accuracy_score(y_test, y_pred)\n",
        "print(f\"Logistic Regression Accuracy: {accuracy * 100:.2f}%\")\n"
      ],
      "metadata": {
        "id": "wXk7hLT_yGEH"
      },
      "execution_count": null,
      "outputs": []
    },
    {
      "cell_type": "code",
      "source": [
        "import pandas as pd\n",
        "from sklearn.model_selection import train_test_split\n",
        "import xgboost as xgb\n",
        "from sklearn.metrics import accuracy_score\n",
        "\n",
        "# 데이터 불러오기\n",
        "df = pd.read_csv('/content/steam_games_cleaned.csv', encoding='utf-8')\n",
        "\n",
        "# 특성과 레이블 설정\n",
        "X = df.drop(columns=['genre', 'url'])\n",
        "y = df['genre']\n",
        "\n",
        "# 텍스트 컬럼이 있다면 이를 숫자형으로 변환\n",
        "X = pd.get_dummies(X)  # 범주형 변수를 더미 변수로 변환\n",
        "\n",
        "# 학습용, 테스트용 데이터셋 분리\n",
        "X_train, X_test, y_train, y_test = train_test_split(X, y, test_size=0.3, random_state=42)\n",
        "\n",
        "# XGBoost 모델 학습\n",
        "xgb_model = xgb.XGBClassifier(use_label_encoder=False, eval_metric='mlogloss')\n",
        "xgb_model.fit(X_train, y_train)\n",
        "\n",
        "# 예측\n",
        "y_pred = xgb_model.predict(X_test)\n",
        "\n",
        "# 정확도 평가\n",
        "accuracy = accuracy_score(y_test, y_pred)\n",
        "print(f\"XGBoost Accuracy: {accuracy * 100:.2f}%\")\n"
      ],
      "metadata": {
        "id": "V2BeYBX5yNW3"
      },
      "execution_count": null,
      "outputs": []
    }
  ]
}